{
 "cells": [
  {
   "cell_type": "code",
   "execution_count": 1,
   "id": "c5f37195-dd91-45cf-b629-3997b4e76e6e",
   "metadata": {},
   "outputs": [],
   "source": [
    "# Some helper functions.\n",
    "\n",
    "import numpy as np\n",
    "from numpy.polynomial import Polynomial\n",
    "from numpy.polynomial.polynomial import polypow\n",
    "from math import floor\n",
    "\n",
    "# Mean and standard deviation of a Gaussian distribution that will be used in the followings.\n",
    "# Sigma is a \"suggested\" value for safe BFV, see https://eprint.iacr.org/2019/939.pdf\n",
    "mu, sigma = 0, 3.2\n",
    "\n",
    "def Poly(coeffs):\n",
    "    \"\"\"\n",
    "    Helper function to build polynomials, passing a dictionary of coefficients.\n",
    "    For example, passing {0: 1, 1: -2, 2: 2} returns the polynomial\n",
    "    2X**2 - 2X + 1\n",
    "    \"\"\"\n",
    "    max_power = max(coeffs.keys())\n",
    "    _coeffs = np.zeros(max_power + 1)\n",
    "     \n",
    "    for i, c in coeffs.items():\n",
    "        _coeffs[i] = c\n",
    "        \n",
    "    return Polynomial(_coeffs)\n",
    "\n",
    "def pr(p):\n",
    "    \"\"\" \n",
    "    Helper function to pretty-print the polynomials, with human order\n",
    "    of powers, removed trailing .0, etc.\n",
    "    \"\"\"\n",
    "    coefs = p.coef\n",
    "    res = \"\"\n",
    "    \n",
    "    powers = range(len(coefs)-1, -1, -1)\n",
    "    for power, coeff in zip(powers, reversed(coefs)):\n",
    "        if coeff == 0:\n",
    "            continue\n",
    "        \n",
    "        if int(coeff) == coeff:\n",
    "            coeff = int(coeff)\n",
    "                  \n",
    "        sign = \"- \" if coeff < 0 else \"+ \"\n",
    "        \n",
    "        if power == 0:\n",
    "            value = abs(coeff)\n",
    "        elif abs(coeff) != 1:\n",
    "            value = abs(coeff)\n",
    "        else:\n",
    "            value = \"\"\n",
    "\n",
    "        power_sign = {0: \"\", 1: \"X\"}\n",
    "        def_power_sign = f\"X**{power}\"\n",
    "        \n",
    "        res += f\" {sign}{value}{power_sign.get(power, def_power_sign)}\"\n",
    "        \n",
    "    if res[1] == \"+\":\n",
    "        return res[3:]\n",
    "    if res[1] == \"-\":\n",
    "        return res[1:]\n",
    "\n",
    "def mod_on_coefficients(polynomial, modulo):\n",
    "    \"\"\"\n",
    "    Apply the modulo on the coefficients of a polynomial.\n",
    "    \"\"\"\n",
    "    coefs = polynomial.coef\n",
    "    mod_coefs = []\n",
    "    for c in coefs:\n",
    "        mod_coefs.append(c % modulo)\n",
    "        \n",
    "    return Polynomial(mod_coefs)\n",
    "\n",
    "def round_on_nearest_integer(polynomial):\n",
    "    \"\"\"\n",
    "    Round the coefficients of a polynomial to the\n",
    "    nearest integer.\n",
    "    \"\"\"\n",
    "    coefs = polynomial.coef\n",
    "    round_coefs = []\n",
    "    for c in coefs:\n",
    "        round_coefs.append(round(c))\n",
    "    \n",
    "    return Polynomial(round_coefs)"
   ]
  },
  {
   "cell_type": "markdown",
   "id": "832b186f-6b5f-4932-9bbb-c67441a749dd",
   "metadata": {},
   "source": [
    "Main sources:\n",
    "  - A Homomorphic Encryption Illustrated Primer - https://blog.n1analytics.com/\n",
    "  - SEAL Manual (https://www.microsoft.com/en-us/research/uploads/prod/2017/11/sealmanual-2-3-1.pdf)\n",
    "\n",
    "# BFV Homomorphic encryption scheme\n",
    "The Brakerski-Fan-Vercauteren (BFV) scheme is an homomorphic encryption (HE) scheme which allows the computation of some functions directly on *encrypted data*. \n",
    "\n",
    "In particular, it allows the computation of additions and multiplication:\n",
    "\n",
    "- between ciphertexts and ciphertexts;\n",
    "- between ciphertexts and plaintexts.\n",
    "\n",
    "\n",
    "The result of the operations, once decrypted, is the same as if it were applied on the corresponding plaintexts.\n",
    "\n",
    "![he](images/HE.png)\n",
    "\n",
    "The schemes like BFV or also CKKS are based on a hard computation problem called *Ring Learning With Errors*.\n",
    "\n",
    "Let's understand this problem starting from the bottom.\n",
    "\n",
    "## Data representation\n",
    "The data in these schemes is represented by *polynomials*. This holds both when data is encrypted (ciphertexts) and when it is unencrypted (plaintexts).\n",
    "\n",
    "So, the starting point are common polynomials like:"
   ]
  },
  {
   "cell_type": "code",
   "execution_count": 2,
   "id": "e6e84283-4c40-4d13-9237-07d08c7c7b7b",
   "metadata": {},
   "outputs": [
    {
     "name": "stdout",
     "output_type": "stream",
     "text": [
      "X**2 + 2X + 4\n"
     ]
    }
   ],
   "source": [
    "p = Poly({0: 4, 1: 2, 2: 1})\n",
    "print(pr(p))"
   ]
  },
  {
   "cell_type": "markdown",
   "id": "164c9c08-784b-436b-aeb8-ea39cf049a10",
   "metadata": {},
   "source": [
    "However, there is more. \n",
    "\n",
    "### Coefficients\n",
    "First of all, the coefficients of the polynomials are whole numbers, and are the *remainder* relative to some other number $k$ (that is $\\bmod k$).\n",
    "\n",
    "Take for example $k=12$; we can see the ring as a common clock, in which each our corresponds to an element in the ring.\n",
    "Adding $3$ to $11$ will result in $2$ instead of $14$.\n",
    "\n",
    "![modularNumbers](images/bfv/ModularNumbers.png)\n",
    "\n",
    "It also important to note that in this ring we could make the numbers go from $-5$ to $6$: this is arbitrary, because it is easy to see that a remainder of $-1$ is the same as a remainder of $11$. In the following this consideration will be assumed.\n",
    "\n",
    "### Polynomial modulus\n",
    "The second aspect is that also the polynomials themselves are remainder: we define a special polynomial called *polynomial modulus*. Each polynomial used in the scheme is divided by this polynomial modulus and the remainder is taken.\n",
    "\n",
    "In the HE schemes it is common to take this polynomial modulus in the form $x^n + 1$ where $n$ is a power of $2$. For example, if we take $n=8$ we have the polynomial $x^{8} + 1$.\n",
    "\n",
    "Put simply, the polynomials employed in the scheme have the following two characteristics:\n",
    "\n",
    "  1. Their coefficients are modulo $k$, creating a ring from $0$ to $k$;\n",
    "  2. The maximum degree is $n-1$;\n",
    "\n",
    "So, all the polynomials we are considering are of the form (assuming $n=8$):\n",
    "$$ a_7 x^7+a_6 x^6+a_5 x^5+a_4 x^4+a_3 x^3+a_2 x^2+a_1 x+a_0 $$\n",
    "\n",
    "remembering that each of the 8 coefficients $a_i$ can range from $0$ to $k-1$.\n",
    "\n",
    "We can also give a powerful graphical representation of this:\n",
    "\n",
    "![immagine.png](images/bfv/PolynomialTorus.png)\n",
    "\n",
    "Each loop contains the 12 possible values of the coefficient of one of the powers of $x$ that appears in the polynomial. \n",
    "\n",
    "Formally: the polynomials used in the scheme are in the space $R_k = \\mathbb{Z}_k[x] / (x^n + 1)$."
   ]
  },
  {
   "cell_type": "markdown",
   "id": "d597ce67-5970-452d-b910-b36ab79fa9d7",
   "metadata": {},
   "source": [
    "### Practical examples\n",
    "Let's see this in action. In HE, there are a lot of multiplications between polynomials.\n",
    "Let $n = 8$ (hence, the polynomial modulus is $x^8 + 1$), and $k = 7$.\n",
    "When we multiply two powers of $x$, for example $3 x^{4}$ and $4x^5$ we add their exponent, making $12 x^{9}$. \n",
    "\n",
    "After each operation, we have to perform the division with the polynomial modulus and keep the remainder.\n",
    "\n",
    "$$ 12 x^9 \\bmod x^8 + 1 = -12x $$\n",
    "\n",
    "Also, the result's coefficients have to be taken $\\bmod k$.\n",
    "\n",
    "$$ [-12x]_k = 2x $$"
   ]
  },
  {
   "cell_type": "code",
   "execution_count": 3,
   "id": "d29cb86c-b5ef-4f6a-be54-5888d7b1285d",
   "metadata": {},
   "outputs": [
    {
     "name": "stdout",
     "output_type": "stream",
     "text": [
      "A: 3X**4\n",
      "B: 4X**5\n",
      "Product of A and B: 12X**9\n",
      "Polynomial modulus: X**8 + 1\n",
      "----------------------\n",
      "Remainder of (A*B) / polynomial modulus: - 12X\n",
      "Apply also mod k: 2X\n"
     ]
    }
   ],
   "source": [
    "a = Poly({4: 3})\n",
    "b = Poly({5: 4})\n",
    "polynomial_modulus = Poly({0: 1, 8: 1})\n",
    "\n",
    "prod = a * b\n",
    "\n",
    "quo, rem = divmod(prod, polynomial_modulus)\n",
    "final_result = mod_on_coefficients(rem, 7)\n",
    "\n",
    "print(f\"A: {pr(a)}\")\n",
    "print(f\"B: {pr(b)}\")\n",
    "print(f\"Product of A and B: {pr(prod)}\")\n",
    "print(f\"Polynomial modulus: {pr(polynomial_modulus)}\")\n",
    "print(f\"----------------------\")\n",
    "print(f\"Remainder of (A*B) / polynomial modulus: {pr(rem)}\")\n",
    "print(f\"Apply also mod k: {pr(final_result)}\")"
   ]
  },
  {
   "cell_type": "markdown",
   "id": "ef7f9d3f-59ab-4112-98cc-fce13ada4001",
   "metadata": {},
   "source": [
    "The polynomials used as modulo, $x^n + 1$ are in the family of *cyclotomic polynomials*."
   ]
  },
  {
   "cell_type": "markdown",
   "id": "1dfa1816-aa55-4c99-bc57-10af5bd6b7c2",
   "metadata": {
    "tags": []
   },
   "source": [
    "## Encryption using polynomials ring\n",
    "Now we can go to the encryption/decryption phase. And we start this discussing how private and public keys are created.\n",
    "\n",
    "### Private and public keys\n",
    "Encryption takes a *plaintext* and converts it to a *ciphertext* using a public key which is derived from a private key.\n",
    "The decryption - the opposite process - is feasible only if you know the private key.\n",
    "\n",
    "Let's write if formally for the case of BFV.\n",
    "\n",
    "A plaintext is a polynomial from the ring with polynomial modulus $x^n + 1$, with $n$ being a power of $2$, and coefficients modulus $p$ (which will be denoted as *plaintext coefficient modulus*). The polynomial modulus is denoted with $\\Phi_n$.\n",
    "\n",
    "The encryption of a plaintext is a ciphertext which is represented by (at least) **two** polynomial from the ring with the same polynomial modulus, but with the coefficients modulus $q$ (which will be denoted as *ciphertext coefficient modulus*) which is typically much larger than $p$.\n",
    "\n",
    "In real cases of BFV applications, it is common to take values of $n$ of at least $2048$ while for $q$, usually very large values are used.\n",
    "\n",
    "To make a simpler example, we will use much smaller values, for example $n=16$, $p=7$ and $q=874$. Note that these parameter are not *secure* for real cases (and we will see why...)."
   ]
  },
  {
   "cell_type": "code",
   "execution_count": 4,
   "id": "93595c69-5170-49ca-9ca1-26a0c5075acb",
   "metadata": {},
   "outputs": [
    {
     "name": "stdout",
     "output_type": "stream",
     "text": [
      "Plaintext coefficient modulo: 7\n",
      "Ciphertext coefficient modulo: 874\n",
      "Polynomial modulus: X**16 + 1\n"
     ]
    }
   ],
   "source": [
    "n = 16\n",
    "polynomial_modulus = Poly({0: 1, n: 1})\n",
    "p = 7\n",
    "q = 874\n",
    "\n",
    "print(f\"Plaintext coefficient modulo: {p}\")\n",
    "print(f\"Ciphertext coefficient modulo: {q}\")\n",
    "print(f\"Polynomial modulus: {pr(polynomial_modulus)}\")"
   ]
  },
  {
   "cell_type": "markdown",
   "id": "0ca4b58e-6f56-4048-a791-6a6b5299b993",
   "metadata": {},
   "source": [
    "Let's generate the private key, $k_s$: the secret key corresponds to a random polynomial with coefficients of either $-1, 0, 1$. \n",
    "\n",
    "For example:"
   ]
  },
  {
   "cell_type": "code",
   "execution_count": 1,
   "id": "7f58ee20-b437-40dc-94ae-a02ea0bfd7e0",
   "metadata": {},
   "outputs": [
    {
     "ename": "NameError",
     "evalue": "name 'np' is not defined",
     "output_type": "error",
     "traceback": [
      "\u001b[0;31m---------------------------------------------------------------------------\u001b[0m",
      "\u001b[0;31mNameError\u001b[0m                                 Traceback (most recent call last)",
      "\u001b[0;32m<ipython-input-1-6cda0dafe2f2>\u001b[0m in \u001b[0;36m<module>\u001b[0;34m\u001b[0m\n\u001b[1;32m      1\u001b[0m \u001b[0mcoeffs\u001b[0m \u001b[0;34m=\u001b[0m \u001b[0;34m{\u001b[0m\u001b[0;34m}\u001b[0m\u001b[0;34m\u001b[0m\u001b[0;34m\u001b[0m\u001b[0m\n\u001b[1;32m      2\u001b[0m \u001b[0;32mfor\u001b[0m \u001b[0mi\u001b[0m \u001b[0;32min\u001b[0m \u001b[0mrange\u001b[0m\u001b[0;34m(\u001b[0m\u001b[0;36m0\u001b[0m\u001b[0;34m,\u001b[0m \u001b[0;36m16\u001b[0m\u001b[0;34m)\u001b[0m\u001b[0;34m:\u001b[0m\u001b[0;34m\u001b[0m\u001b[0;34m\u001b[0m\u001b[0m\n\u001b[0;32m----> 3\u001b[0;31m     \u001b[0mcoeffs\u001b[0m\u001b[0;34m[\u001b[0m\u001b[0mi\u001b[0m\u001b[0;34m]\u001b[0m \u001b[0;34m=\u001b[0m \u001b[0mnp\u001b[0m\u001b[0;34m.\u001b[0m\u001b[0mrandom\u001b[0m\u001b[0;34m.\u001b[0m\u001b[0mrandint\u001b[0m\u001b[0;34m(\u001b[0m\u001b[0;34m-\u001b[0m\u001b[0;36m1\u001b[0m\u001b[0;34m,\u001b[0m \u001b[0;36m2\u001b[0m\u001b[0;34m)\u001b[0m\u001b[0;34m\u001b[0m\u001b[0;34m\u001b[0m\u001b[0m\n\u001b[0m\u001b[1;32m      4\u001b[0m \u001b[0;34m\u001b[0m\u001b[0m\n\u001b[1;32m      5\u001b[0m \u001b[0ms\u001b[0m \u001b[0;34m=\u001b[0m \u001b[0mPoly\u001b[0m\u001b[0;34m(\u001b[0m\u001b[0mcoeffs\u001b[0m\u001b[0;34m)\u001b[0m\u001b[0;34m\u001b[0m\u001b[0;34m\u001b[0m\u001b[0m\n",
      "\u001b[0;31mNameError\u001b[0m: name 'np' is not defined"
     ]
    }
   ],
   "source": [
    "coeffs = {}\n",
    "for i in range(0, 16):\n",
    "    coeffs[i] = np.random.randint(-1, 2)\n",
    "    \n",
    "s = Poly(coeffs)\n",
    "print(f\"Secret key: {pr(s)}\")"
   ]
  },
  {
   "cell_type": "markdown",
   "id": "5e5705af-8830-4c62-a4c6-ee6324fcf367",
   "metadata": {},
   "source": [
    "Next we generate a public key.\n",
    "\n",
    "For this we need:\n",
    "\n",
    "  1. a random polynomial from the ciphertext space, hence with coefficients modulo $q$, which we'll call $a$;\n",
    "  2. an *error polynomial*, which is small in the sense that has small coefficients drawn from a discrete Gaussian distribution. We will use this once, then it is discarded. We'll call this $e$.\n",
    "\n",
    "At this point we can define the public key as the pair of polynomials:\n",
    "\n",
    "$$k_p = ([{-(a k_s + e)}]_{\\Phi_n, q} , a)$$\n",
    "\n",
    "where the polynomial arithmetic is done modulo the polynomial modulus and the coefficient arithmetic modulo $q$."
   ]
  },
  {
   "cell_type": "code",
   "execution_count": 6,
   "id": "bdf3c2b4-b5e7-4a6b-ab2e-65a287866edd",
   "metadata": {},
   "outputs": [
    {
     "name": "stdout",
     "output_type": "stream",
     "text": [
      "a: 741X**15 + 200X**14 + 56X**13 + 720X**12 + 526X**11 + 233X**10 + 761X**9 + 271X**8 + 495X**7 + 291X**6 + 77X**5 + 139X**4 + 200X**3 + 168X**2 + 182X + 670\n",
      "\n",
      "e: - X**15 - 2X**14 - X**13 + 4X**12 - X**11 + X**10 + 4X**9 - 3X**8 - 3X**7 - 4X**6 + 2X**5 - X**4 + 2X**3 - 8X**2 - 2X - 1\n",
      "\n",
      "Public key: 755X**15 + 665X**14 + 234X**13 + 542X**12 + 659X**11 + 838X**10 + 320X**9 + 654X**8 + 152X**7 + 543X**6 + 663X**5 + 449X**4 + 833X**3 + 681X**2 + 248X + 596, 741X**15 + 200X**14 + 56X**13 + 720X**12 + 526X**11 + 233X**10 + 761X**9 + 271X**8 + 495X**7 + 291X**6 + 77X**5 + 139X**4 + 200X**3 + 168X**2 + 182X + 670\n",
      "\n"
     ]
    }
   ],
   "source": [
    "coeffs = {}\n",
    "for i in range(0, n):\n",
    "    coeffs[i] = np.random.randint(0, q)\n",
    "\n",
    "a = Poly(coeffs)\n",
    "\n",
    "# this should be bounded\n",
    "dist = np.random.default_rng().normal(mu, sigma, 16)\n",
    "coeffs = {}\n",
    "for ind in range(0, n):\n",
    "    coeffs[ind] = round(dist[ind])\n",
    "\n",
    "\n",
    "e = Poly(coeffs)\n",
    "\n",
    "pk_0 = -((a * s) + e)\n",
    "pk_0 = divmod(pk_0, polynomial_modulus)[1]\n",
    "pk_0 = mod_on_coefficients(pk_0, q)\n",
    "\n",
    "pk_1 = a\n",
    "\n",
    "pk = (pk_0, pk_1)\n",
    "\n",
    "print(f\"a: {pr(a)}\\n\")\n",
    "print(f\"e: {pr(e)}\\n\")\n",
    "print(f\"Public key: {pr(pk_0)}, {pr(pk_1)}\\n\")"
   ]
  },
  {
   "cell_type": "markdown",
   "id": "daf54088",
   "metadata": {},
   "source": [
    "It is interesting to note that, in a sense, the secret key is contained in the public key. However, to mask it, it is multiplied with the polynomial $a$ which has coefficients in the range $\\bmod q$ (it is quite \"big\"). \n",
    "\n",
    "However, also $a$ is contained in the public key; a little error $e$ is added to $a*s$ and this makes it computationally hard to retrieve $s$. \n",
    "This is the exact definition of the *Ring Learning with Errors*.\n",
    "\n",
    "In our toy example it would be possible to retrieve $s$ using a brute force attack. trying every possible $s$ and checking for similarity with the first term of the public key. There are only $3^{16} = 43046721$ combinations; it's obvious that with bigger $n$ the combinations can become, for example $3^{4096}$ which is *quite* large. However, the security is tested also against other type of more clever attacks.\n",
    "\n",
    "To recap:\n",
    "\n",
    "$$ s \\rightarrow \\text{\"small\" polynomial (coefficients in -1, 0, 1)}$$\n",
    "$$ a \\rightarrow \\text{\"big polynomial (coefficients in mod q)}$$\n",
    "$$ e \\rightarrow \\text{\"small noise\" polynomial (coefficients drawn by a Gaussian distribution)}$$\n",
    "\n",
    "$$ k_s$$\n",
    "$$ k_p = \\left ( \\left [ -(a k_s + e) \\right ]_{\\Phi_n, q} , a \\right ) $$"
   ]
  },
  {
   "cell_type": "markdown",
   "id": "571933b3-40bd-4703-8ab9-5640e897eef7",
   "metadata": {},
   "source": [
    "### Encryption\n",
    "Encryption transforms a plaintext - encoded in the form of a polynomial with coefficients modulo $p$ (that, is in the space $R_p = \\mathbb{Z}_p[{x}]/(x^n + 1)$ into a ciphertext.\n",
    "A fresh ciphertext, in BFV, is a pair of polynomials with coefficients modulo $q$ (that is, they are in the space $R_{\\Phi_n, q} = \\mathbb{Z}_{\\Phi_n, q}[{x}]/(x^n + 1)$). "
   ]
  },
  {
   "cell_type": "code",
   "execution_count": 7,
   "id": "cdb56a18-bb2b-41f0-9c52-371ffa5dad5c",
   "metadata": {},
   "outputs": [
    {
     "name": "stdout",
     "output_type": "stream",
     "text": [
      "Plain message: X**2 + X + 1\n"
     ]
    }
   ],
   "source": [
    "m = Poly({0: 1, 1: 1, 2: 1})\n",
    "print(f\"Plain message: {pr(m)}\")"
   ]
  },
  {
   "cell_type": "markdown",
   "id": "923b69d3-f9eb-46f7-a0d6-55f3c5197b7b",
   "metadata": {},
   "source": [
    "To perform the encryption we need three \"small\" polynomials:\n",
    "\n",
    "1. Two error polynomials (\"small error\" polynomials), extracted from a discrete Gaussian distribution (similarly to the one used in the public key);\n",
    "2. A \"small\" polynomial, $u$, which has coefficients drawn from (-1, 0, 1), similar to $s$."
   ]
  },
  {
   "cell_type": "code",
   "execution_count": 8,
   "id": "d13dfa96-5325-4d02-b6a0-04810c013caa",
   "metadata": {},
   "outputs": [
    {
     "name": "stdout",
     "output_type": "stream",
     "text": [
      "e_1: 2X**15 + 5X**14 + 4X**12 + 6X**11 - X**10 - 2X**9 - 3X**8 - X**7 - 3X**6 + 3X**5 + 5X**3 + X**2 + 5X + 2\n",
      "\n",
      "e_2: 2X**15 - 7X**14 - 2X**13 - X**12 + 3X**11 + X**10 - 3X**9 + 3X**8 + 6X**7 + X**6 - X**5 - X**4 - 5X**3 + 2X - 1\n",
      "\n",
      "u: - X**13 - X**12 - X**11 - X**6 - X**3 - X**2\n",
      "\n"
     ]
    }
   ],
   "source": [
    "dist = np.random.default_rng().normal(mu, sigma, 16)\n",
    "coeffs = {}\n",
    "for ind in range(0, 16):\n",
    "    coeffs[ind] = round(dist[ind])\n",
    "\n",
    "e_1 = Poly(coeffs)\n",
    "\n",
    "dist = np.random.default_rng().normal(mu, sigma, 16)\n",
    "coeffs = {}\n",
    "for ind in range(0, 16):\n",
    "    coeffs[ind] = round(dist[ind])\n",
    "\n",
    "e_2 = Poly(coeffs)\n",
    "\n",
    "coeffs = {}\n",
    "for i in range(0, 16):\n",
    "    coeffs[i] = np.random.randint(-1, 2)\n",
    "    \n",
    "u = Poly(coeffs)\n",
    "\n",
    "print(f\"e_1: {pr(e_1)}\\n\")\n",
    "print(f\"e_2: {pr(e_2)}\\n\")\n",
    "print(f\"u: {pr(u)}\\n\")"
   ]
  },
  {
   "cell_type": "markdown",
   "id": "67766035-40e5-4515-94b2-c90977fbfa94",
   "metadata": {},
   "source": [
    "We use these polynomials in the encryption phase, then we discard them.\n",
    "The ciphertext is represented by two polynomials calculated as:\n",
    "$$ct = \\left ( \\left [ k_{p_0} u + e_1 + \\left \\lfloor \\frac{q}{p} \\right \\rfloor m \\right ]_{\\Phi_n, q} , \\left [k_{p_1} u + e_2 \\right ]_{\\Phi_n, q} \\right)$$\n",
    "\n",
    "Which can be rewritten, expanding $k_p$:\n",
    "$$ct = \\left ( \\left [ -asu -eu + e_1 + \\left \\lfloor \\frac{q}{p} \\right \\rfloor m \\right ]_{\\Phi_n, q} , \\left [ au + e_2 \\right ]_{\\Phi_n, q} \\right)$$"
   ]
  },
  {
   "cell_type": "markdown",
   "id": "3eebb697-1efc-414e-8cd1-1b48b9dc5dfd",
   "metadata": {},
   "source": [
    "The initial message had coefficients in the range of $\\bmod p$. However, they have been *scaled* by $\\left \\lfloor \\frac{q}{p} \\right \\rfloor$. This means that, in the ciphertext, the message has coefficients in the range of $\\bmod q$. \n",
    "Morover the role of $u$ become clear: $u$ is a mask which changes at every encryption, and is responsible for the property of confusion typical of HE schemes. The same plaintext message will always have a different encryption.\n",
    "\n",
    "The other terms in the ciphertext *hide* the scaled message, including $-asu$ (which is the biggest one, in terms of coefficients).\n",
    "On the other hand, having $-asu$ and $au$ in the ciphertext is the key for the decryption phase."
   ]
  },
  {
   "cell_type": "code",
   "execution_count": 9,
   "id": "c5ecbc5f-f257-456c-9210-0ca6bc5151c9",
   "metadata": {},
   "outputs": [
    {
     "name": "stdout",
     "output_type": "stream",
     "text": [
      "Ciphertext: 439X**15 + 758X**14 + 322X**13 + 836X**12 + 67X**11 + 398X**10 + 785X**9 + 419X**8 + 678X**7 + 810X**6 + 182X**5 + 862X**4 + 744X**3 + 436X**2 + 367X + 312, 580X**15 + 548X**14 + 346X**13 + 351X**12 + 39X**11 + 93X**10 + 861X**9 + 769X**8 + 213X**7 + 512X**6 + 763X**5 + 502X**4 + 256X**3 + 780X**2 + 228X + 30\n"
     ]
    }
   ],
   "source": [
    "ct0 = pk[0] * u + e_1 + floor((q/p)) * m\n",
    "ct0 = divmod(ct0, polynomial_modulus)[1]\n",
    "ct0 = mod_on_coefficients(ct0, q)\n",
    "\n",
    "ct1 = pk[1] * u + e_2\n",
    "ct1 = divmod(ct1, polynomial_modulus)[1]\n",
    "ct1 = mod_on_coefficients(ct1, q)\n",
    "\n",
    "print(f\"Ciphertext: {pr(ct0)}, {pr(ct1)}\")"
   ]
  },
  {
   "cell_type": "markdown",
   "id": "d62c1ec8-82aa-4659-897c-c589f20b69ed",
   "metadata": {},
   "source": [
    "### Decryption\n",
    "The decryption is relatively simple.\n",
    "\n",
    "In fact, you may have noted that the biggest error term, which hides our message in the ciphertext, is given by $-asu$.\n",
    "However, if we are the entity who crypted the message:\n",
    "\n",
    "  1. we have $s$;\n",
    "  2. we have $au$, because it is contained in the second term of the ciphertext.\n",
    "\n",
    "So, we just have to multiply the second term of the ciphertext with $s$, and sum it with the first term of the ciphertext:\n",
    "\n",
    "$$ [{ct_0 + ct_1s}]_{\\Phi_n, q} = \\left [ -asu -eu + e_1 + \\left \\lfloor \\frac{q}{p} \\right \\rfloor m + asu + se_2 \\right ]_{\\Phi_n, q} $$\n",
    "\n",
    "We end up with:\n",
    "\n",
    "$$ \\left [ \\left \\lfloor \\frac{q}{p} \\right \\rfloor m -eu + e_1 + se_2 \\right]_{\\Phi_n, q} $$\n",
    "\n",
    "Inside this polynomial we have the scaled message summed to some noise. If the noise is not too big, we can recover the message.\n",
    "\n",
    "To do that, we just try to make the modulo with the polynomial modulus, than to apply $\\bmod q$ to the coefficients of the resulting polynomial."
   ]
  },
  {
   "cell_type": "code",
   "execution_count": 10,
   "id": "13e0f292-1542-4ac2-95d6-2d70b149e023",
   "metadata": {},
   "outputs": [
    {
     "name": "stdout",
     "output_type": "stream",
     "text": [
      "Scaled plaintext + errors: 869X**15 + 17X**14 + 13X**13 + 3X**12 + 7X**11 + 873X**10 + 865X**9 + 854X**8 + 841X**7 + 842X**6 + 16X**5 + 18X**4 + 14X**3 + 130X**2 + 141X + 137\n"
     ]
    }
   ],
   "source": [
    "decrypt = ct1 * s + ct0\n",
    "decrypt = divmod(decrypt, polynomial_modulus)[1]\n",
    "decrypt = mod_on_coefficients(decrypt, q)\n",
    "\n",
    "print(f\"Scaled plaintext + errors: {pr(decrypt)}\")"
   ]
  },
  {
   "cell_type": "markdown",
   "id": "5dc3a704-03f8-447b-a33f-f454c78f210d",
   "metadata": {},
   "source": [
    "If we rescale..."
   ]
  },
  {
   "cell_type": "code",
   "execution_count": 11,
   "id": "d55b25b5-fe14-46f9-8089-a50e35e0e744",
   "metadata": {},
   "outputs": [
    {
     "name": "stdout",
     "output_type": "stream",
     "text": [
      "De-scaled plaintext plus errors: 6.959954233409611X**15 + 0.13615560640732266X**14 + 0.10411899313501144X**13 + 0.02402745995423341X**12 + 0.05606407322654462X**11 + 6.991990846681922X**10 + 6.9279176201373X**9 + 6.839816933638444X**8 + 6.7356979405034325X**7 + 6.74370709382151X**6 + 0.12814645308924486X**5 + 0.14416475972540047X**4 + 0.11212814645308924X**3 + 1.0411899313501145X**2 + 1.1292906178489703X + 1.097254004576659\n"
     ]
    }
   ],
   "source": [
    "decrypt = decrypt * p/q\n",
    "print(f\"De-scaled plaintext plus errors: {pr(decrypt)}\")"
   ]
  },
  {
   "cell_type": "markdown",
   "id": "7bb5a376-9ef9-476d-8b44-03518aca527c",
   "metadata": {},
   "source": [
    "Don't forget to round to the nearest integer and make the modulo $\\bmod p$!"
   ]
  },
  {
   "cell_type": "code",
   "execution_count": 12,
   "id": "40373e14-b1b6-419c-986a-87b1acabce64",
   "metadata": {},
   "outputs": [
    {
     "name": "stdout",
     "output_type": "stream",
     "text": [
      "Plain starting message: X**2 + X + 1\n",
      "Final decryption result: X**2 + X + 1\n"
     ]
    }
   ],
   "source": [
    "decrypt = round_on_nearest_integer(decrypt)\n",
    "decrypt = mod_on_coefficients(decrypt, p)\n",
    "\n",
    "print(f\"Plain starting message: {pr(m)}\")\n",
    "print(f\"Final decryption result: {pr(decrypt)}\")"
   ]
  },
  {
   "cell_type": "markdown",
   "id": "8ee8ad00-b996-4051-b4ef-a17cab716798",
   "metadata": {},
   "source": [
    "This is exactly our message!\n",
    "\n",
    "If the coefficients are too noisy, they will be rounded to another integer, and we will end up with wrong terms. The amount of room for noise can be adjusted by making the ratio $q/p$ larger or smaller.\n",
    "\n",
    "We are ready to define some other helper functions to automatize the process of encryption and decryption."
   ]
  },
  {
   "cell_type": "code",
   "execution_count": 13,
   "id": "e99f0966-e7cc-428e-a9fd-83501bbd1040",
   "metadata": {},
   "outputs": [],
   "source": [
    "def generate_keys(n, q):\n",
    "    \"\"\"\n",
    "    Generate public and secret key, using the parameters\n",
    "    d, q passed as parameters.\n",
    "    \n",
    "    Returns sk, pk.\n",
    "    \"\"\"\n",
    "    polynomial_modulus = Poly({0: 1, n: 1})\n",
    "    coeffs = {}\n",
    "    \n",
    "    # Secret key\n",
    "    for i in range(0, n):\n",
    "        coeffs[i] = np.random.randint(-1, 2)\n",
    "\n",
    "    sk = Poly(coeffs)\n",
    "    \n",
    "    # Public key\n",
    "    coeffs = {}\n",
    "    for i in range(0, n):\n",
    "        coeffs[i] = np.random.randint(0, q)\n",
    "\n",
    "    a = Poly(coeffs)\n",
    "\n",
    "    dist = np.random.default_rng().normal(mu, sigma, 16)\n",
    "    coeffs = {}\n",
    "    for ind in range(0, n):\n",
    "        coeffs[ind] = round(dist[ind])\n",
    "\n",
    "    e = Poly(coeffs)\n",
    "\n",
    "    pk_0 = -((a * sk) + e)\n",
    "    pk_0 = divmod(pk_0, polynomial_modulus)[1]\n",
    "    pk_0 = mod_on_coefficients(pk_0, q)\n",
    "\n",
    "    pk_1 = a\n",
    "\n",
    "    pk = (pk_0, pk_1)\n",
    "    \n",
    "    return sk, pk\n",
    "\n",
    "def encrypt_poly(m, pk, n, p, q):\n",
    "    \"\"\"\n",
    "    Encrypt a polynomial message given the public key.\n",
    "    Returns the encrypted polynomial.\n",
    "    \"\"\"\n",
    "    polynomial_modulus = Poly({0: 1, n: 1})\n",
    "\n",
    "    dist = np.random.default_rng().normal(mu, sigma, 16)\n",
    "    coeffs = {}\n",
    "    for ind in range(0, n):\n",
    "        coeffs[ind] = round(dist[ind])\n",
    "\n",
    "    e_1 = Poly(coeffs)\n",
    "\n",
    "    dist = np.random.default_rng().normal(mu, sigma, 16)\n",
    "    coeffs = {}\n",
    "    for ind in range(0, n):\n",
    "        coeffs[ind] = round(dist[ind])\n",
    "\n",
    "    e_2 = Poly(coeffs)\n",
    "\n",
    "    coeffs = {}\n",
    "    for i in range(0, n):\n",
    "        coeffs[i] = np.random.randint(-1, 2)\n",
    "\n",
    "    u = Poly(coeffs)\n",
    "\n",
    "    ct0 = kp[0] * u + e_1 + floor((q/p)) * m\n",
    "    ct0 = divmod(ct0, polynomial_modulus)[1]\n",
    "    ct0 = mod_on_coefficients(ct0, q)\n",
    "    \n",
    "    ct1 = kp[1] * u + e_2 \n",
    "    ct1 = divmod(ct1, polynomial_modulus)[1]\n",
    "    ct1 = mod_on_coefficients(ct1, q)\n",
    "    \n",
    "    return (ct0, ct1)\n",
    "\n",
    "def decrypt_poly(ct, ks, n, p, q):\n",
    "    \"\"\"\n",
    "    Decrypts an encrypted polynomial, given the secret key.\n",
    "    Returns the decrypted polynomial.\n",
    "    \"\"\"\n",
    "    polynomial_modulus = Poly({0: 1, n: 1})\n",
    "    decrypt = Poly({0: 0})\n",
    "    \n",
    "    for i, term in enumerate(ct):\n",
    "        decrypt += ct[i] * polypow(ks.coef, i, 1000)\n",
    "    \n",
    "    decrypt = divmod(decrypt, polynomial_modulus)[1]\n",
    "    decrypt = mod_on_coefficients(decrypt, q)\n",
    "    \n",
    "    decrypt = decrypt * p/q\n",
    "    decrypt = round_on_nearest_integer(decrypt)\n",
    "    decrypt = mod_on_coefficients(decrypt, p)\n",
    "    \n",
    "    return decrypt    "
   ]
  },
  {
   "cell_type": "markdown",
   "id": "03fef356-8e8f-4e05-9e05-f0b13de706b6",
   "metadata": {},
   "source": [
    "## Homomorphic operations\n",
    "Obviously, we are interested in the special aspect of these HE schemes: the possibility to compute homomorphic additions and  multiplications.\n",
    "\n",
    "This means that we can add and multiply numbers while they are still encrypted, without having to decrypt them."
   ]
  },
  {
   "cell_type": "markdown",
   "id": "942cc108-7a11-435e-8347-b6be1d803896",
   "metadata": {},
   "source": [
    "### Homomorphic addition (between ciphertexts)\n",
    "The simplest case is the addition of two ciphertexts. \n",
    "Starting from $ct_1$ and $ct_2$, which are the encryption of messages $m_1$ and $m_2$ respectively, we can compute $ct_3 = ct_1 + ct_2$.\n",
    "The decryption of $ct_3$ is equal to $m_1 + m_2$.\n",
    "\n",
    "Obviously, this assuming the correctness of the processes and suitable encryption parameters."
   ]
  },
  {
   "cell_type": "code",
   "execution_count": 14,
   "id": "7d8172ae-7189-4352-a8c2-35123fe3b49e",
   "metadata": {},
   "outputs": [
    {
     "name": "stdout",
     "output_type": "stream",
     "text": [
      "First message: X**2 + X + 1\n",
      "Second message: X\n",
      "Expected sum: X**2 + 2X + 1\n",
      "-------------------------\n",
      "First ciphertext: 122X**15 + 472X**14 + 859X**13 + 427X**12 + 44X**11 + 871X**10 + 104X**9 + 780X**8 + 83X**7 + 681X**6 + 404X**5 + 363X**4 + 717X**3 + 529X**2 + 617X + 859, 803X**15 + 133X**14 + 747X**13 + 754X**12 + 7X**11 + 396X**10 + X**9 + 505X**8 + 34X**7 + 197X**6 + 698X**5 + 431X**4 + 465X**3 + 868X**2 + 341X + 742\n",
      "\n",
      "Second ciphertext: 721X**15 + 507X**14 + 78X**13 + 605X**12 + 442X**11 + 640X**10 + 350X**9 + 273X**8 + 176X**7 + 684X**6 + 561X**5 + 227X**4 + 194X**3 + 680X**2 + 709X + 669, 851X**15 + 862X**14 + 482X**13 + 288X**12 + 355X**11 + 185X**10 + 556X**9 + 152X**8 + 514X**7 + 634X**6 + 562X**5 + 605X**4 + 496X**3 + 91X**2 + 704X + 841\n",
      "\n"
     ]
    }
   ],
   "source": [
    "n = 16\n",
    "p = 7\n",
    "q = 874\n",
    "\n",
    "ks, kp = generate_keys(n, q)\n",
    "\n",
    "m1 = Poly({0: 1, 1: 1, 2: 1})\n",
    "m2 = Poly({1: 1})\n",
    "print(f\"First message: {pr(m1)}\")\n",
    "print(f\"Second message: {pr(m2)}\")\n",
    "print(f\"Expected sum: {pr(m1+m2)}\")\n",
    "print(f\"-------------------------\")\n",
    "\n",
    "enc_m1 = encrypt_poly(m1, kp, n, p, q)\n",
    "enc_m2 = encrypt_poly(m2, kp, n, p, q)\n",
    "print(f\"First ciphertext: {pr(enc_m1[0])}, {pr(enc_m1[1])}\\n\")\n",
    "print(f\"Second ciphertext: {pr(enc_m2[0])}, {pr(enc_m2[1])}\\n\")"
   ]
  },
  {
   "cell_type": "markdown",
   "id": "4ca4c019-ef8f-4cfe-ab34-a11fef967e48",
   "metadata": {},
   "source": [
    "To perform the addition between the two ciphertexts, it is sufficient to add them element-wise.\n",
    "In the followings $u_1$ and $u_2$, as well as $e_1, \\ldots, e_4$ denote the \"small\" and \"small errors\" polynomials created during the encryption phase.\n",
    "\n",
    "$$ enc\\_m_1 + enc\\_m_2 = \\left ( \\left [k_{p_0}u_1 + e_1 + \\left \\lfloor \\frac{q}{p} \\right \\rfloor m_1 \\right ]_{\\Phi_n, q} , \\left [k_{p_1}u_1 + e_2 \\right]_{\\Phi_n, q} \\right ) + \\left ( \\left [k_{p_0}u_2 + e_3 + \\left \\lfloor \\frac{q}{p} \\right \\rfloor m_2 \\right ]_{\\Phi_n, q} , \\left [ k_{p_1}u_1 + e_4 \\right]_{\\Phi_n, q} \\right ) $$\n",
    "\n",
    "$$ enc\\_m_1 + enc\\_m_2 = \\left ( \\left [k_{p_0}(u_1 + u_2) + e_1 + e_3 + \\left \\lfloor \\frac{q}{p} \\right \\rfloor (m_1 + m_2) \\right ]_{\\Phi_n, q} , \\left [ k_{p_1}(u_1 + u_2) + e_2 + e_4 \\right ]_{\\Phi_n, q} \\right ) $$\n",
    "\n",
    "We are interested in the term $\\left \\lfloor \\frac{q}{p} \\right \\rfloor(m_1 + m_2)$, which is the scaled sum of our messages; however, new noise terms appeared in the ciphertext.\n",
    "\n",
    "Let's try to decrypt this, multiplying the second term of the ciphertext with $s$ and summing it up. Also, expand $k_p$:\n",
    "\n",
    "$$ [{ct_0 + ct_1s}]_{\\Phi_n, q} = \\left [ { -as(u_1 + u_2) - e(u_1 + u_2) + e_1 + e_3 + \\left \\lfloor \\frac{q}{p} \\right \\rfloor(m_1 + m_2) + (a(u_1 + u_2) + e_2 + e_4)s } \\right ]_{\\Phi_n, q} $$\n",
    "\n",
    "$$ [{ct_0 + ct_1s}]_{\\Phi_n, q} = \\left [ -as(u_1 + u_2) - e(u_1 + u_2) + e_1 + e_3 + \\left \\lfloor \\frac{q}{p} \\right \\rfloor(m_1 + m_2) + as(u_1 + u_2) + s(e_2 + e_4) \\right ]_{\\Phi_n, q} $$\n",
    "\n",
    "$$ [{ct_0 + ct_1s}]_{\\Phi_n, q} = \\left [ -e(u_1 + u_2) + e_1 + e_3 + \\left \\lfloor \\frac{q}{p} \\right \\rfloor(m_1 + m_2) + s(e_2 + e_4) \\right ]_{\\Phi_n, q} $$\n",
    "\n",
    "We have some new noise terms. Before analyzing them, let's remember that the noise polynomials become a problem if one of their coefficients is larger than $\\frac{q}{2p}$, which, in our case, is around $62$. This is because, during the decryption, after the scaling, the rounding to the nearest integer will round to the wrong one! According to the type of encoding used, this can result in a small or big problem.\n",
    "\n",
    "The new noise terms are:\n",
    "\n",
    "  1. $-e(u_1 + u_2)$: this is the product of a \"small noise\" polynomial with the sum of two \"small\" polynomials (with coefficients $-1, 0, 1$). This can be quite big, because sometimes the sum of $-1, 0, 1$ will be close to $0$, while other times it will become $2, 3, 4...$. This can reach $62$ pretty fast.\n",
    "  2. $e_1 + e_3$: this is only the sum of two \"small noise\" polynomials. It's less worrying than the first.\n",
    "  3. $s(e_2 + e_4)$: this is bad similarly to the the first.\n",
    "\n",
    "Can we graphically visualize how bad is this?\n",
    "\n",
    "![eu1u2](images/bfv/addition_noise/plot.png)\n",
    "\n",
    "It is possible to see that, after just one addition, there is a decent probability that a coefficient of the noise polynomials will be higher than $62$, leading to an error in the decryption phase.\n",
    "\n",
    "To have more room, we have to increment the ratio $q/t$.\n",
    "\n",
    "Let's compute an addition."
   ]
  },
  {
   "cell_type": "code",
   "execution_count": 15,
   "id": "f0d3a83f-114d-44de-870c-bd20b894e89f",
   "metadata": {},
   "outputs": [
    {
     "name": "stdout",
     "output_type": "stream",
     "text": [
      "Encrypted sum: 843X**15 + 105X**14 + 63X**13 + 158X**12 + 486X**11 + 637X**10 + 454X**9 + 179X**8 + 259X**7 + 491X**6 + 91X**5 + 590X**4 + 37X**3 + 335X**2 + 452X + 654, 780X**15 + 121X**14 + 355X**13 + 168X**12 + 362X**11 + 581X**10 + 557X**9 + 657X**8 + 548X**7 + 831X**6 + 386X**5 + 162X**4 + 87X**3 + 85X**2 + 171X + 709\n",
      "\n",
      "Expected sum: X**2 + 2X + 1\n",
      "Decrypted result: X**10 + X**2 + 2X + 1\n"
     ]
    }
   ],
   "source": [
    "def add_ciphertexts(enc_m1, enc_m2, n, q):\n",
    "    polynomial_modulus = Poly({0: 1, n: 1})\n",
    "    enc_sum_0 = enc_m1[0] + enc_m2[0]\n",
    "    enc_sum_1 = enc_m1[1] + enc_m2[1]\n",
    "\n",
    "    enc_sum_0 = divmod(enc_sum_0, polynomial_modulus)[1]\n",
    "    enc_sum_0 = mod_on_coefficients(enc_sum_0, q)\n",
    "\n",
    "    enc_sum_1 = divmod(enc_sum_1, polynomial_modulus)[1]\n",
    "    enc_sum_1 = mod_on_coefficients(enc_sum_1, q)\n",
    "\n",
    "    enc_sum = (enc_sum_0, enc_sum_1)\n",
    "    return enc_sum\n",
    "\n",
    "enc_sum = add_ciphertexts(enc_m1, enc_m2, n, q)\n",
    "print(f\"Encrypted sum: {pr(enc_sum[0])}, {pr(enc_sum[1])}\\n\")\n",
    "\n",
    "decrypted = decrypt_poly(enc_sum, ks, n, p, q)\n",
    "print(f\"Expected sum: {pr(m1+m2)}\")\n",
    "print(f\"Decrypted result: {pr(decrypted)}\")"
   ]
  },
  {
   "cell_type": "markdown",
   "id": "5c4240cb-d7c9-459b-bc60-0a57a7147864",
   "metadata": {},
   "source": [
    "Remember that we are in a ring, so $+6 \\equiv -1$, etc.\n",
    "If the result is not correct, try to encrypt the messages again and re-computing the addition."
   ]
  },
  {
   "cell_type": "markdown",
   "id": "ece2ad33-e33d-4f36-a3db-3ef23a431a69",
   "metadata": {},
   "source": [
    "### Homomorphic multiplication (between ciphertexts)\n",
    "The multiplication between ciphertexts is more complicated than the addition and can cause an important increment of the noise in the resulting ciphertext.\n",
    "\n",
    "Before diving into the actual multiplication, we can foresee that, at some point, we will have a term: $\\left \\lfloor \\frac{q}{p} \\right \\rfloor m_1 * \\left \\lfloor \\frac{q}{p} \\right \\rfloor m_2$ which is $\\frac{q^2}{p^2}m_1m_2$. So, we start this phase anticipating that, during the multiplication, we will multiply the ciphertexts also with $\\frac{p}{q}$ in order to come back to $\\left \\lfloor \\frac{q}{p} \\right \\rfloor m_1m_2$: noise apart, this is the term we will want to have in the ciphertext, so we can decrypt it later.\n",
    "\n",
    "Another point is: let's consider the ciphertext in the form that we used in the decryption: $ct = ([{ct_0 + ct_1s}]_{\\Phi_n, q}$. Basically we are expressing the ciphertexts as *polynomials in $s$*. It will soon be clear why it is useful to do this.\n",
    "\n",
    "Let $m_1$ and $m_2$ the plain polynomials, and $enc_1$, $enc_2$ their encryption. We have:\n",
    "\n",
    "$$ enc_1 * enc_2 = \\left [{\\left \\lfloor \\frac{p}{q}(enc_{1_0} + enc_{1_1}s) * (enc_{2_0} + enc_{2_1}s) \\right \\rceil} \\right]_{\\Phi_n, q} = $$\n",
    "$$ enc_1 * enc_2 = \\left [{\\left \\lfloor \\frac{p}{q}(enc_{1_0}enc_{2_0} + enc_{1_0}enc_{2_1}s + enc_{1_1}enc_{2_0}s + enc_{1_1}enc_{2_1}s^2) \\right \\rceil} \\right ]_{\\Phi_n, q} $$\n",
    "\n",
    "This is interesting because, if we group using $s$ and we give some simpler names to these terms, we have:\n",
    "$$ c_0 = \\left [{\\left \\lfloor \\frac{p}{q} enc_{1_0}enc_{2_0} \\right \\rceil} \\right ]_{\\Phi_n, q} $$\n",
    "$$ c_1 = \\left [{\\left \\lfloor \\frac{p}{q} (enc_{1_0}enc_{2_1} + enc_{1_1}enc_{2_0}) \\right \\rceil} \\right]_{\\Phi_n, q} $$\n",
    "$$ c_2 = \\left [{\\left \\lfloor \\frac{p}{q} enc_{1_1}enc_{2_1} \\right \\rceil} \\right]_{\\Phi_n, q} $$\n",
    "\n",
    "This means that, if we express the multiplication result as this three-terms ciphertext:\n",
    "$$ enc_1 * enc_2 = enc_{result} = (c_0, c_1, c_2) $$\n",
    "\n",
    "We can also rewrite the decryption operation to work also on three-terms (or... $n$-terms!) ciphertexts:\n",
    "$$ m_1 * m_2 = \\left [{ \\left \\lfloor \\frac{p}{q} [{enc_{result_0}s^0 + enc_{result_1}s^1 + enc_{result_2}s^2}]_{\\Phi_n, q} \\right \\rceil} \\right ]_{\\Phi_n, p} $$\n",
    "\n",
    "#### Noise in multiplications\n",
    "Unfortunately, to understand the noise propagation during the multiplications, we have to expands some of the last equations into simpler terms: $k_p$ first, then $s$, $e$, $u$... \n",
    "\n",
    "Luckily, we know from the decryption phase that the mask is eliminated with $-asu + asu$; so, we can omit some terms. In particular, we can \"reconsider\" the public key as $k_p = (e, 0)$ and speed up some calculations.\n",
    "\n",
    "Recalling the form of our ciphertexts:\n",
    "$$ enc_1 = \\left ( \\left [{k_{p_0}u_1 + e_1 + \\left \\lfloor \\frac{q}{p} \\right \\rfloor m_1} \\right ]_{\\Phi_n, q}, \\left [{k_{p_1}u_1 + e_2} \\right ]_{\\Phi_n, q} \\right ) $$\n",
    "$$ enc_2 = \\left ( \\left [{k_{p_0}u_2 + e_3 + \\left \\lfloor \\frac{q}{p} \\right \\rfloor m_2} \\right ]_{\\Phi_n, q}, \\left [{k_{p_1}u_2 + e_4} \\right ]_{\\Phi_n, q} \\right) $$\n",
    "\n",
    "We can rewrite each component of the decryption, one by one for clarity:\n",
    "\n",
    "$$c_0 = \\left [ \\left \\lfloor \\frac{p}{q}( k_{p_0}u_1 + e_1 + \\left \\lfloor \\frac{q}{p} \\right \\rfloor m_1)(k_{p_0}u_2 + e_3 + \\left \\lfloor \\frac{q}{p} \\right \\rfloor m_2) \\right \\rceil \\right ]_{\\Phi_n, q} $$\n",
    "$$ = \\left [ \\left \\lfloor \\frac{p}{q}e^2u_1u_2 - \\frac{p}{q}eu_1e_3 - eu_1m_2 - \\frac{p}{q}eu_2e_1 + \\frac{p}{q}e_3e_1 + m_2e_1 - m_1eu_2 + m_1e_3 + \\left \\lfloor \\frac{q}{p} \\right \\rfloor m_1m_2 \\right \\rceil \\right ]_{\\Phi_n, q}$$\n",
    "\n",
    "$$c_1 = \\left [ \\left \\lfloor \\frac{p}{q}((k_{p_0}u_1 + e_1 + \\left \\lfloor \\frac{q}{p} \\right \\rfloor m_1)(k_{p_1}u_2 + e_4) + (k_{p_1}u_1 + e_2)(k_{p_0}u_2 + e_3 + \\left \\lfloor \\frac{q}{p} \\right \\rfloor m_2))s \\right \\rceil \\right ]_{\\Phi_n, q}$$\n",
    "$$ = \\left [ \\left \\lfloor -\\frac{p}{q}eu_1e_4s + \\frac{p}{q}e_1e_4s + m_1e_4s - \\frac{p}{q}eu_2e_2s + \\frac{p}{q}e_3e_2s + m_2e_2s \\right \\rceil \\right ]_{\\Phi_n, q}$$\n",
    "\n",
    "$$c_2 = \\left [ \\left \\lfloor \\frac{p}{q}(k_{p_1}u_1 + e_2)(k_{p_1}u_2 + e_4)s^2 \\right \\rceil \\right ]_{\\Phi_n, q}$$\n",
    "$$ = \\left [ \\left \\lfloor \\frac{p}{q}e_2e_4s^2 \\right \\rceil \\right ]_{\\Phi_n, q}$$\n",
    "\n",
    "By experience, we can say that the most problematic terms are the one involving the messages $*$ secret key $*$ an error are the most problematic.\n",
    "\n",
    "If we use the encryption parameters that we used in the addition case ($t=7$, $q=874$) we have a problem if a coefficient in the result polynomial will be higher than $\\left \\lfloor \\frac{q}{2t} \\right \\rfloor = 62$.\n",
    "\n",
    "Let's inspect the distribution of the coefficients in one multiplication, for all the noise terms we obtained:\n",
    "\n",
    "![mult_noise](images/bfv/multiplication_noise/plot.png)"
   ]
  },
  {
   "cell_type": "markdown",
   "id": "8f539c41-5e7d-4624-ab72-5a37b01e7bb9",
   "metadata": {},
   "source": [
    "It is basically sure that this will not work: in the histogram for $-e * u_1 * m_2$ we see that there is a very high probability of coefficients being in the range $[{-500, 500}]$. We have to increment the ratio $\\frac{q}{p}$ to have more room with noise. Let's try with $424242$:"
   ]
  },
  {
   "cell_type": "code",
   "execution_count": 16,
   "id": "3817c97b-1866-4b48-be69-6d18a6bb198c",
   "metadata": {},
   "outputs": [
    {
     "name": "stdout",
     "output_type": "stream",
     "text": [
      "First message: 3X**2 + X + 1\n",
      "Second message: X**2 - 2X - 1\n",
      "Expected product: 3X**4 - 5X**3 - 4X**2 - 3X - 1\n",
      "-------------------------\n",
      "First ciphertext: 287379X**15 + 137677X**14 + 281413X**13 + 319501X**12 + 54508X**11 + 82914X**10 + 35062X**9 + 306727X**8 + 324478X**7 + 294896X**6 + 334368X**5 + 340684X**4 + 23564X**3 + 220734X**2 + 72967X + 68241, 105497X**15 + 279692X**14 + 398992X**13 + 43305X**12 + 190834X**11 + 199360X**10 + 265798X**9 + 242377X**8 + 272047X**7 + 399949X**6 + 381047X**5 + 51756X**4 + 170892X**3 + 318242X**2 + 36391X + 361477\n",
      "\n",
      "Second ciphertext: 328368X**15 + 21004X**14 + 309926X**13 + 274249X**12 + 36481X**11 + 107217X**10 + 202934X**9 + 137356X**8 + 65453X**7 + 381512X**6 + 107571X**5 + 181070X**4 + 383154X**3 + 109203X**2 + 219262X + 156964, 2368X**15 + 209092X**14 + 231558X**13 + 5081X**12 + 84194X**11 + 158727X**10 + 409289X**9 + 415929X**8 + 245719X**7 + 362707X**6 + 319137X**5 + 417402X**4 + 291829X**3 + 238214X**2 + 75697X + 56662\n"
     ]
    }
   ],
   "source": [
    "n = 16\n",
    "p = 7\n",
    "q = 424242\n",
    "\n",
    "ks, kp = generate_keys(n, q)\n",
    "\n",
    "m1 = Poly({0: 1, 1: 1, 2: 3})\n",
    "m2 = Poly({0: -1, 1: -2, 2: 1})\n",
    "print(f\"First message: {pr(m1)}\")\n",
    "print(f\"Second message: {pr(m2)}\")\n",
    "print(f\"Expected product: {pr(m1*m2)}\")\n",
    "print(f\"-------------------------\")\n",
    "\n",
    "enc_m1 = encrypt_poly(m1, kp, n, p, q)\n",
    "enc_m2 = encrypt_poly(m2, kp, n, p, q)\n",
    "print(f\"First ciphertext: {pr(enc_m1[0])}, {pr(enc_m1[1])}\\n\")\n",
    "print(f\"Second ciphertext: {pr(enc_m2[0])}, {pr(enc_m2[1])}\")"
   ]
  },
  {
   "cell_type": "code",
   "execution_count": 17,
   "id": "c93e465d-c2ff-4299-83e0-81942d672858",
   "metadata": {},
   "outputs": [
    {
     "name": "stdout",
     "output_type": "stream",
     "text": [
      "Expected product: 3X**4 - 5X**3 - 4X**2 - 3X - 1\n",
      "Decrypted result: 3X**4 + 2X**3 + 3X**2 + 4X + 6\n"
     ]
    }
   ],
   "source": [
    "def multiply_ciphertexts(ct1, ct2, n, p, q):\n",
    "    polynomial_modulus = Poly({0: 1, n: 1})\n",
    "    \n",
    "    c0 = (p/q) * ct1[0] * ct2[0]\n",
    "    c0 = divmod(c0, polynomial_modulus)[1]\n",
    "    c0 = mod_on_coefficients(c0, q)\n",
    "    c0 = round_on_nearest_integer(c0)\n",
    "    \n",
    "    c1 = (p/q) * (ct1[0] * ct2[1] + ct1[1] * ct2[0])\n",
    "    c1 = divmod(c1, polynomial_modulus)[1]\n",
    "    c1 = mod_on_coefficients(c1, q)\n",
    "    c1 = round_on_nearest_integer(c1)\n",
    "    \n",
    "    c2 = (p/q) * ct1[1] * ct2[1]\n",
    "    c2 = divmod(c2, polynomial_modulus)[1]\n",
    "    c2 = mod_on_coefficients(c2, q)\n",
    "    c2 = round_on_nearest_integer(c2)\n",
    "    \n",
    "    return (c0, c1, c2)    \n",
    "\n",
    "mult = multiply_ciphertexts(enc_m1, enc_m2, n, p, q)\n",
    "decrypted = decrypt_poly(mult, ks, n, p, q)\n",
    "\n",
    "print(f\"Expected product: {pr(m1*m2)}\")\n",
    "print(f\"Decrypted result: {pr(decrypted)}\")"
   ]
  },
  {
   "cell_type": "markdown",
   "id": "2e89c84d-d456-4477-8140-9d14fe0e500a",
   "metadata": {},
   "source": [
    "#### Relinearisation\n",
    "\n",
    "As we saw, the multiplication between two ciphertexts resulted in a ciphertext composed by three elements.\n",
    "This is not a problem di per se, given that we can modify the decryption phase in order to work also on $n$-dimensional ciphertexts. However:\n",
    "\n",
    "  1. The bigger the ciphertexts, the bigger their memory footprint both in central memory and storage/network;\n",
    "  2. The bigger the ciphertexts, the bigger the computational load required in performing operations on them.\n",
    "  \n",
    "Luckily, BFV allows an operation called *relinearization* which takes a ciphertext of size $k$ and return a ciphertext of size $k-1$ (obviously, at least with dimension $2$).\n",
    "\n",
    "While the relinearization slightly increases the general value of noise in the ciphertext, it is generally suggested to perform it after every multiplication; also because it requires some keys, which have to be generated by the secret key owner. \n",
    "\n",
    "Let $k$ be the dimension of the ciphertexts we want to relinearize (e.g. $3$). Then, to perform the relinearization, we need the relinearization key for $k$, expressed as:\n",
    "$$\\mathbf{evk}_k = ([{-(as+e) +s^{k-1}}]_{\\Phi_n, q}, a)$$\n",
    "\n",
    "Note that if we relinearize after every multiplication, we need just $\\mathbf{evk}_3 = ([{-(as+e) +s^2}]_{\\Phi_n, q}, a)$.\n",
    "\n",
    "\n",
    "The actual operation is computed this way: let $c_0, c_1, c_2$ be the elements of the ciphertext we want to relinearize. We also have $\\mathbf{evk}_3$. Then, we can compute $(c^{'}_0, c^{'}_1)$ as:\n",
    "\n",
    "$$c^{'}_0 = c_0 + \\mathbf{evk}_3[0]c_2 $$\n",
    "$$c^{'}_1 = c_1 + \\mathbf{evk}_3[1]c_2 $$\n",
    "\n",
    "The resulting ciphertext is $ct = (c^{'}_0, c^{'}_1)$.\n",
    "\n",
    "What happens if we try on the result of our last multiplication?  "
   ]
  },
  {
   "cell_type": "code",
   "execution_count": 18,
   "id": "ca2d3854-7af2-48d0-8779-1f45ad55d3aa",
   "metadata": {},
   "outputs": [
    {
     "name": "stdout",
     "output_type": "stream",
     "text": [
      "Our last ciphertext had 3 elements.\n",
      "We want to relinearize it to a 2-elements ciphertext.\n"
     ]
    }
   ],
   "source": [
    "print(f\"Our last ciphertext had {len(mult)} elements.\")\n",
    "print(f\"We want to relinearize it to a 2-elements ciphertext.\")\n",
    "\n",
    "# Generate evk3\n",
    "polynomial_modulus = Poly({0: 1, n: 1})\n",
    "evk3_0 = pk[0] + (ks * ks)\n",
    "evk3_0 = divmod(evk3_0, polynomial_modulus)[1]\n",
    "evk3_0 = mod_on_coefficients(evk3_0, q)\n",
    "\n",
    "evk3 = (evk3_0, kp[1])\n",
    "\n",
    "# Relinearize\n",
    "\n",
    "new_c0 = mult[0] + evk3[0]*mult[2]\n",
    "new_c1 = mult[1] + evk3[1]*mult[2]\n",
    "\n",
    "relinearized_mult = (new_c0, new_c1)"
   ]
  },
  {
   "cell_type": "markdown",
   "id": "36023bb4-ad5e-4e5a-8623-ca624269fe3c",
   "metadata": {},
   "source": [
    "Are we still able to decrypt it?"
   ]
  },
  {
   "cell_type": "code",
   "execution_count": 19,
   "id": "8e5300fe-66fa-4b99-9c30-b553dd274e37",
   "metadata": {},
   "outputs": [
    {
     "name": "stdout",
     "output_type": "stream",
     "text": [
      "Expected product: 3X**4 - 5X**3 - 4X**2 - 3X - 1\n",
      "Decrypted result: 2X**15 + 2X**14 + 5X**12 + 5X**11 + X**10 + 5X**9 + 2X**8 + 2X**6 + 4X**5 + X**4 + 6X**3 + 3X + 2\n"
     ]
    }
   ],
   "source": [
    "decrypted = decrypt_poly(relinearized_mult, ks, n, p, q)\n",
    "\n",
    "print(f\"Expected product: {pr(m1*m2)}\")\n",
    "print(f\"Decrypted result: {pr(decrypted)}\")"
   ]
  },
  {
   "cell_type": "markdown",
   "id": "363c08a8-5eb1-4c64-ac6d-cfdf9bd284b2",
   "metadata": {},
   "source": [
    "Unfortunately, in the relinearization the term $-e*c_2$ is generated. Given that $c_2$ has coefficients up to $q$, this term will make the decryption fail.\n",
    "\n",
    "There are advanced solutions to perform the relinearization without having this problem."
   ]
  },
  {
   "cell_type": "markdown",
   "id": "b378a739-d4ef-440d-b9a2-b3fa5058b6eb",
   "metadata": {},
   "source": [
    "### Homomorphic operations between ciphertexts and plaintexts\n",
    "An important aspect of schemes like BFV is the possibility to compute additions and multiplications not only between ciphertexts, but also between a ciphertext and a plaintext.\n",
    "\n",
    "This is very important for HE-ML: if a third party wants to run a ML model on encrypted data, it is useless to encrypt the model. Not only, this is actually wasteful because **operations between ciphertexts and plaintexts create much less noise**.\n",
    "\n",
    "They are quite easy with respect to the ones we saw before.\n",
    "Let $ct = (ct_0, ct_1, \\ldots, ct_n)$ be an encrypted polynomial and $pt$ a plain polynomial.\n",
    "\n",
    "$$ ct + pt = (ct_0 + \\left \\lfloor \\frac{q}{p} \\right \\rfloor pt, ct_1, \\ldots, ct_n) $$\n",
    "$$ ct * pt = (ct_0 * pt, ct_1 * pt, \\ldots, ct_n * pt) $$"
   ]
  },
  {
   "cell_type": "code",
   "execution_count": 20,
   "id": "251044f7-5537-4e50-ba2b-a7903f35da9e",
   "metadata": {},
   "outputs": [],
   "source": [
    "def add_cipher_and_plain(ct, pt, p, q):\n",
    "    ct = list(ct)\n",
    "    ct[0] = ct[0] + floor((q/p))*pt\n",
    "    ct = tuple(ct)\n",
    "    \n",
    "    return ct\n",
    "\n",
    "def multiply_cipher_and_plain(ct, pt):\n",
    "    \n",
    "    new_ct = []\n",
    "    for elem in ct:\n",
    "        new_ct.append(elem * pt)\n",
    "    \n",
    "    return tuple(new_ct)"
   ]
  },
  {
   "cell_type": "code",
   "execution_count": 21,
   "id": "6069f07f-1c2d-4697-93b8-93c691946826",
   "metadata": {},
   "outputs": [
    {
     "name": "stdout",
     "output_type": "stream",
     "text": [
      "First message: 3X**2 + X + 1\n",
      "Second message: X**2 - 2X - 1\n",
      "Expected sum: 4X**2 - X\n",
      "Expected product: 3X**4 - 5X**3 - 4X**2 - 3X - 1\n",
      "-------------------------\n",
      "Encrypting first message...\n",
      "--------------------------\n",
      "Decrypted sum: 4X**2 + 6X\n",
      "Decrypted product: 3X**4 + 2X**3 + 3X**2 + 4X + 6\n"
     ]
    }
   ],
   "source": [
    "n = 16\n",
    "p = 7\n",
    "q = 424242\n",
    "\n",
    "ks, kp = generate_keys(n, q)\n",
    "\n",
    "m1 = Poly({0: 1, 1: 1, 2: 3})\n",
    "m2 = Poly({0: -1, 1: -2, 2: 1})\n",
    "print(f\"First message: {pr(m1)}\")\n",
    "print(f\"Second message: {pr(m2)}\")\n",
    "print(f\"Expected sum: {pr(m1+m2)}\")\n",
    "print(f\"Expected product: {pr(m1*m2)}\")\n",
    "print(f\"-------------------------\")\n",
    "\n",
    "print(f\"Encrypting first message...\")\n",
    "enc_m1 = encrypt_poly(m1, kp, n, p, q)\n",
    "\n",
    "add_result = add_cipher_and_plain(enc_m1, m2, p, q)\n",
    "mult_result = multiply_cipher_and_plain(enc_m1, m2)\n",
    "\n",
    "print(f\"--------------------------\")\n",
    "print(f\"Decrypted sum: {pr(decrypt_poly(add_result, ks, n, p, q))}\")\n",
    "print(f\"Decrypted product: {pr(decrypt_poly(mult_result, ks, n, p, q))}\")"
   ]
  },
  {
   "cell_type": "markdown",
   "id": "9167b53d-06b5-4361-b22f-1ee12d5851e5",
   "metadata": {},
   "source": [
    "In the case of ciphertext-plaintext addition, virtually we are not adding any noise to the ciphertext: in fact, if the plain message is $m_2$, we are adding to the ciphertext $\\left \\lfloor \\frac{q}{p} \\right \\rfloor m_2$ which will be summed to $\\left \\lfloor \\frac{q}{p} \\right \\rfloor m_1$. However, adding a polynomial may lead a coefficient in the ciphertext to go above $t$ or also $\\frac{q}{2t}$.\n",
    "\n",
    "For multiplications, the problem is a more complicated; however, generally, the noise incremenet depends on the \"dimension\" of the plaintext message. This is still an operation which produce much less noise than ciphertext-ciphertext multiplications and do not require a relinearization phase after."
   ]
  },
  {
   "cell_type": "markdown",
   "id": "4c2ec622-7436-4600-90f1-8f269176d380",
   "metadata": {},
   "source": [
    "## Encoding\n",
    "The last - but very important - aspect of BFV (but also of other HE schemes) is the encoding.\n",
    "\n",
    "In simple words: how can we represent the values we want to encrypt in the most efficient way?\n",
    "\n",
    "### Scalar encoder\n",
    "This is the most simple way: if we want to encrypt $42$, encode it as a constant polynomial and proceed if everything we saw till this point.\n",
    "\n",
    "However, this is very inefficient and we can work only with values < $p$. Increasing $p$ makes the noise increment, so, this encoded is not implemented in SEAL.\n",
    "\n",
    "### Integer encoder\n",
    "This is a more efficient way to encode integers in SEAL. Basically, an integer $-(2^n - 1) \\leq a \\leq (2^n-1)$ can be encoded by computing the binary expansion of $\\|a\\|$:\n",
    "\n",
    "$$ \\mathbf{IntegerEncode}(a, B=2) = sign(a) \\cdot (a_{n-1}x^{n-1} + \\ldots + a_1x + a_0) $$\n",
    "\n",
    "In this case we used the binary expansion, so B=2. It is possible to use other values of B, though.\n",
    "\n",
    "This has many advantages w.r.t the scalar encoder: the starting coefficients are way smaller, making the noise growth with a lower rate. Also, it allows for a smaller $p$ to be used.\n",
    "\n",
    "### Fractional encoder\n",
    "It is also possible to encode fractional values, splitting the integer and fractional part of a value and encoding them in the same polynomials, treating them as integers.\n",
    "\n",
    "However, BFV was not born with this goal in mind; while it is possible to use this encoder, the CKKS scheme should be used if the use case involves floating values.\n",
    "\n",
    "### Packing\n",
    "The packing is different from the last two encoders: its main goal is to encode **multiple** values into a single polynomial. \n",
    "This allows the use of SIMD operations on ciphertexts: in fact, multiplying two ciphertexts (operation that already involves SIMD instructions on modern CPUs/GPUs) means multiplying **two vectors** of values.\n",
    "\n",
    "While this presents many advantages from the computational point of view, it also presents an important limitation: if used, it is no longer possible to access directly the n-th element of an encoded array.\n",
    "\n",
    "In part this can be solved using an additional operation called *rotation*. This operation rotates the values of an encrypted vector. For example:\n",
    "\n",
    "$$ [a_0, a_1, \\ldots, a_n] $$\n",
    "\n",
    "becomes:\n",
    "\n",
    "$$ [a_1, \\ldots, a_n, a_0] $$\n",
    "\n",
    "This requires the generation of *Galois Keys*, one for each rotation step required (e.g. one key for rotations of 1 place, one key for rotations of 2 places, etc). If a Galois key for a particular rotation is not available, a combination of rotation can be performed but this consumes more noise (rotations consume more or less the same noise as relinearization).\n",
    "\n",
    "In short: use packing when possible, but remembers the limitation of working on array."
   ]
  },
  {
   "cell_type": "markdown",
   "id": "7cc39587-a658-49a2-b0ef-62a4b7c603b0",
   "metadata": {},
   "source": [
    "# Playground\n",
    "\n",
    "Remember that the following functions are available:\n",
    "\n",
    "- ks, kp = generate\\_keys(n, q)\n",
    "- enc_m = encrypt_poly(m, kp, n, p, q)\n",
    "- decrypted = decrypt_poly(enc_poly, ks, n, p, q)\n",
    "- enc_sum = add_ciphertexts(enc_m1, enc_m2, n, q)\n",
    "- enc_mult = multiply_ciphertexts(enc_m1, enc_m2, n, p, q)\n",
    "- add_result = add_cipher_and_plain(enc_m1, m2, p, q)\n",
    "- mult_result = multiply_cipher_and_plain(enc_m1, m2)"
   ]
  },
  {
   "cell_type": "code",
   "execution_count": 22,
   "id": "a989dac4-ba6c-4207-b9b1-b4a4e6104dbe",
   "metadata": {},
   "outputs": [],
   "source": [
    "from numpy.polynomial.polynomial import polyval"
   ]
  },
  {
   "cell_type": "code",
   "execution_count": 23,
   "id": "31027dbb-7d9d-4849-bd46-58804301b907",
   "metadata": {},
   "outputs": [],
   "source": [
    "n = 16\n",
    "p = 7\n",
    "q = 124112"
   ]
  },
  {
   "cell_type": "code",
   "execution_count": 24,
   "id": "7ae06568-923f-4367-9f37-2c6e11bb519e",
   "metadata": {},
   "outputs": [],
   "source": [
    "ks, kp = generate_keys(n, q)"
   ]
  },
  {
   "cell_type": "code",
   "execution_count": 25,
   "id": "c299a662-2dfb-4766-821d-14dd658e4ecc",
   "metadata": {},
   "outputs": [
    {
     "name": "stdout",
     "output_type": "stream",
     "text": [
      "Secret key: X**15 - X**14 - X**13 - X**12 + X**11 + X**10 - X**9 - X**8 - X**7 + X**6 - X**5 + X**4 - X**3 - X**2 + 1\n",
      "\n",
      "Public key: 61199X**15 + 48133X**14 + 104460X**13 + 60601X**12 + 100867X**11 + 115965X**10 + 5255X**9 + 80189X**8 + 20730X**7 + 15550X**6 + 38213X**5 + 39912X**4 + 54197X**3 + 62895X**2 + 113586X + 92746, 80534X**15 + 36864X**14 + 67996X**13 + 93461X**12 + 30336X**11 + 124039X**10 + 109213X**9 + 70976X**8 + 36273X**7 + 39448X**6 + 81173X**5 + 6239X**4 + 70838X**3 + 27318X**2 + 35006X + 72552\n",
      "\n"
     ]
    }
   ],
   "source": [
    "print(f\"Secret key: {pr(ks)}\\n\")\n",
    "print(f\"Public key: {pr(kp[0])}, {pr(kp[1])}\\n\")"
   ]
  },
  {
   "cell_type": "code",
   "execution_count": 26,
   "id": "fc42486c-bd30-4518-be5e-2ea7abe3034f",
   "metadata": {},
   "outputs": [],
   "source": [
    "m1 = Poly({0: 1, 1: 1, 2: 1})\n",
    "m2 = Poly({1: 1})"
   ]
  },
  {
   "cell_type": "code",
   "execution_count": 27,
   "id": "af752a8d-0d41-448c-840b-18363c713190",
   "metadata": {},
   "outputs": [
    {
     "name": "stdout",
     "output_type": "stream",
     "text": [
      "7: X**2 + X + 1\n",
      "2: X\n"
     ]
    }
   ],
   "source": [
    "print(f\"7: {pr(m1)}\")\n",
    "print(f\"2: {pr(m2)}\")"
   ]
  },
  {
   "cell_type": "code",
   "execution_count": 28,
   "id": "64d43aeb-88a4-4a0a-a43d-f4a79a37e862",
   "metadata": {},
   "outputs": [],
   "source": [
    "enc_m1 = encrypt_poly(m1, pk, n, p, q)\n",
    "enc_m2 = encrypt_poly(m2, pk, n, p, q)"
   ]
  },
  {
   "cell_type": "code",
   "execution_count": 29,
   "id": "abfce1cc-81ef-471a-81b1-1269855ca0a2",
   "metadata": {},
   "outputs": [
    {
     "name": "stdout",
     "output_type": "stream",
     "text": [
      "enc_m1: 74404X**15 + 9539X**14 + 102745X**13 + 58368X**12 + 98750X**11 + 74464X**10 + 67822X**9 + 4104X**8 + 23789X**7 + 99591X**6 + 64343X**5 + 61968X**4 + 53390X**3 + 27250X**2 + 64856X + 51090, 121602X**15 + 100582X**14 + 28457X**13 + 103613X**12 + 98904X**11 + 18214X**10 + 3138X**9 + 1039X**8 + 65530X**7 + 11022X**6 + 51615X**5 + 57206X**4 + 51429X**3 + 60289X**2 + 80948X + 13677\n",
      "\n",
      "enc_m2: 14068X**15 + 6425X**14 + 4887X**13 + 43501X**12 + 64802X**11 + 97740X**10 + 97173X**9 + 106415X**8 + 72200X**7 + 83490X**6 + 37630X**5 + 57126X**4 + 18887X**3 + 23691X**2 + 53327X + 52978, 100091X**15 + 85920X**14 + 55385X**13 + 39411X**12 + 91418X**11 + 96094X**10 + 55480X**9 + 54972X**8 + 87293X**7 + 86329X**6 + 80720X**5 + 68553X**4 + 40828X**3 + 16044X**2 + 51146X + 117168\n",
      "\n"
     ]
    }
   ],
   "source": [
    "print(f\"enc_m1: {pr(enc_m1[0])}, {pr(enc_m1[1])}\\n\")\n",
    "print(f\"enc_m2: {pr(enc_m2[0])}, {pr(enc_m2[1])}\\n\")"
   ]
  },
  {
   "cell_type": "code",
   "execution_count": 30,
   "id": "ee5e1354-664b-4b91-83ad-d1068130792c",
   "metadata": {},
   "outputs": [
    {
     "name": "stdout",
     "output_type": "stream",
     "text": [
      "Sum ciphertext: 88472X**15 + 15964X**14 + 107632X**13 + 101869X**12 + 39440X**11 + 48092X**10 + 40883X**9 + 110519X**8 + 95989X**7 + 58969X**6 + 101973X**5 + 119094X**4 + 72277X**3 + 50941X**2 + 118183X + 104068, 97581X**15 + 62390X**14 + 83842X**13 + 18912X**12 + 66210X**11 + 114308X**10 + 58618X**9 + 56011X**8 + 28711X**7 + 97351X**6 + 8223X**5 + 1647X**4 + 92257X**3 + 76333X**2 + 7982X + 6733\n",
      "\n",
      "Expected sum: X**2 + 2X + 1\n",
      "\n",
      "Decrypted result: X**2 + 2X + 1\n",
      "\n"
     ]
    }
   ],
   "source": [
    "enc_sum = add_ciphertexts(enc_m1, enc_m2, n, q)\n",
    "print(f\"Sum ciphertext: {pr(enc_sum[0])}, {pr(enc_sum[1])}\\n\")\n",
    "\n",
    "decrypted = decrypt_poly(enc_sum, ks, n, p, q)\n",
    "print(f\"Expected sum: {pr(m1+m2)}\\n\")\n",
    "print(f\"Decrypted result: {pr(decrypted)}\\n\")"
   ]
  },
  {
   "cell_type": "code",
   "execution_count": 31,
   "id": "29d72575-3366-4984-8383-a89193498f42",
   "metadata": {},
   "outputs": [
    {
     "data": {
      "text/plain": [
       "numpy.polynomial.polynomial.Polynomial"
      ]
     },
     "execution_count": 31,
     "metadata": {},
     "output_type": "execute_result"
    }
   ],
   "source": [
    "type(decrypted)"
   ]
  },
  {
   "cell_type": "code",
   "execution_count": 32,
   "id": "508725e4-5814-438a-8e75-169a6b381a93",
   "metadata": {},
   "outputs": [
    {
     "name": "stdout",
     "output_type": "stream",
     "text": [
      "9.0\n"
     ]
    }
   ],
   "source": [
    "print(polyval(2, decrypted.coef))"
   ]
  },
  {
   "cell_type": "code",
   "execution_count": 33,
   "id": "90362f7e-cdb5-4d89-b4a0-31cdbad71b07",
   "metadata": {},
   "outputs": [
    {
     "name": "stdout",
     "output_type": "stream",
     "text": [
      "Multiplication result: 4616X**15 + 69851X**14 + 90658X**13 + 27259X**12 + 92777X**11 + 63865X**10 + 46488X**9 + 86233X**8 + 69036X**7 + 13697X**6 + 12395X**5 + 78526X**4 + 87149X**3 + 70424X**2 + 108145X + 97186, 41476X**15 + 15425X**14 + 111259X**13 + 54167X**12 + 4603X**11 + 74182X**10 + 123835X**9 + 67268X**8 + 9265X**7 + 47926X**6 + 6478X**5 + 66494X**4 + 109412X**3 + 13366X**2 + 108332X + 94209, 77259X**15 + 32461X**14 + 9874X**13 + 75310X**12 + 105013X**11 + 101503X**10 + 7418X**9 + 45160X**8 + 24155X**7 + 53139X**6 + 36391X**5 + 76924X**4 + 12497X**3 + 49450X**2 + 5811X + 35650\n",
      "\n",
      "Expected product: X**3 + X**2 + X\n",
      "\n",
      "Decrypted result: X**3 + X**2 + X\n",
      "\n"
     ]
    }
   ],
   "source": [
    "mult = multiply_ciphertexts(enc_m1, enc_m2, n, p, q)\n",
    "print(f\"Multiplication result: {pr(mult[0])}, {pr(mult[1])}, {pr(mult[2])}\\n\")\n",
    "decrypted = decrypt_poly(mult, ks, n, p, q)\n",
    "\n",
    "print(f\"Expected product: {pr(m1*m2)}\\n\")\n",
    "print(f\"Decrypted result: {pr(decrypted)}\\n\")"
   ]
  }
 ],
 "metadata": {
  "kernelspec": {
   "display_name": "Pyfhel",
   "language": "python",
   "name": "pyfhel"
  },
  "language_info": {
   "codemirror_mode": {
    "name": "ipython",
    "version": 3
   },
   "file_extension": ".py",
   "mimetype": "text/x-python",
   "name": "python",
   "nbconvert_exporter": "python",
   "pygments_lexer": "ipython3",
   "version": "3.9.6"
  }
 },
 "nbformat": 4,
 "nbformat_minor": 5
}
